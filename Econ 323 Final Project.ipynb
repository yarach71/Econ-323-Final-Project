{
 "cells": [
  {
   "cell_type": "markdown",
   "id": "8e10c886-e265-446a-ad84-a3cedd4cddb8",
   "metadata": {},
   "source": [
    "## Assessing the Efficacy of Three-Child Policy & Predicting China Population"
   ]
  },
  {
   "cell_type": "markdown",
   "id": "712df321-96b0-400b-b6fa-829b7990a5e6",
   "metadata": {},
   "source": [
    "Wenjun Rao (71672380) & Rachel Yang (57893471)\n"
   ]
  },
  {
   "cell_type": "markdown",
   "id": "fe087854-b731-4ae5-9b8c-d81045e9412b",
   "metadata": {},
   "source": [
    "### Introduction"
   ]
  },
  {
   "cell_type": "markdown",
   "id": "70d20cf1-83d5-4e04-b03c-700048ce4888",
   "metadata": {},
   "source": [
    "China, the world's most populous nation, has long grappled with the challenges and opportunities presented by its vast population. In response to the aging population and evolving societal needs, the Chinese government has implemented a series of policies to regulate its population growth. The most recent of these policies, the \"Three-Child Policy,\" introduced on May 31st, 2021, marks a significant shift in the country's approach to population control. As the world watches with interest, questions about the efficacy of this policy have begun to emerge.  \n",
    "\n",
    "The Three-Child Policy comes at a pivotal moment for China, as the nation faces a rapidly aging population, imbalanced gender ratios, and socio-economic challenges. The outcomes of the Three-Child Policy could significantly impact the future of the world's most populous nation and have far-reaching consequences on a global scale. This project aims to provide an in-depth evaluation of the policy's effectiveness, considering its social, economic, and demographic dimensions.\n"
   ]
  },
  {
   "cell_type": "markdown",
   "id": "a6af4458-69db-423e-aed3-5039b2e7a281",
   "metadata": {
    "tags": []
   },
   "source": [
    "sdsd"
   ]
  },
  {
   "cell_type": "code",
   "execution_count": null,
   "id": "dc4e38f9-2ebd-4860-bdbe-b89661635ccd",
   "metadata": {},
   "outputs": [],
   "source": []
  }
 ],
 "metadata": {
  "kernelspec": {
   "display_name": "Python 3 (ipykernel)",
   "language": "python",
   "name": "python3"
  },
  "language_info": {
   "codemirror_mode": {
    "name": "ipython",
    "version": 3
   },
   "file_extension": ".py",
   "mimetype": "text/x-python",
   "name": "python",
   "nbconvert_exporter": "python",
   "pygments_lexer": "ipython3",
   "version": "3.10.8"
  }
 },
 "nbformat": 4,
 "nbformat_minor": 5
}
